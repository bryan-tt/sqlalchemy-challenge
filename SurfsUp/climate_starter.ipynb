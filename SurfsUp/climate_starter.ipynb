{
 "cells": [
  {
   "cell_type": "code",
   "execution_count": 1,
   "metadata": {},
   "outputs": [],
   "source": [
    "%matplotlib inline\n",
    "from matplotlib import style\n",
    "style.use('fivethirtyeight')\n",
    "import matplotlib.pyplot as plt"
   ]
  },
  {
   "cell_type": "code",
   "execution_count": 2,
   "metadata": {},
   "outputs": [],
   "source": [
    "import numpy as np\n",
    "import pandas as pd\n",
    "import datetime as dt"
   ]
  },
  {
   "attachments": {},
   "cell_type": "markdown",
   "metadata": {},
   "source": [
    "# Reflect Tables into SQLAlchemy ORM"
   ]
  },
  {
   "cell_type": "code",
   "execution_count": 3,
   "metadata": {},
   "outputs": [],
   "source": [
    "# Python SQL toolkit and Object Relational Mapper\n",
    "# import sqlalchemy\n",
    "from sqlalchemy.ext.automap import automap_base\n",
    "from sqlalchemy.orm import Session\n",
    "from sqlalchemy import create_engine, func, inspect"
   ]
  },
  {
   "cell_type": "code",
   "execution_count": 4,
   "metadata": {},
   "outputs": [],
   "source": [
    "# create engine to hawaii.sqlite\n",
    "engine = create_engine(\"sqlite:///Resources/hawaii.sqlite\")"
   ]
  },
  {
   "cell_type": "code",
   "execution_count": 5,
   "metadata": {},
   "outputs": [],
   "source": [
    "# reflect an existing database into a new model\n",
    "Base = automap_base()\n",
    "# reflect the tables\n",
    "Base.prepare(autoload_with=engine)"
   ]
  },
  {
   "cell_type": "code",
   "execution_count": 6,
   "metadata": {},
   "outputs": [
    {
     "data": {
      "text/plain": [
       "['measurement', 'station']"
      ]
     },
     "execution_count": 6,
     "metadata": {},
     "output_type": "execute_result"
    }
   ],
   "source": [
    "# View all of the classes that automap found\n",
    "Base.classes.keys()"
   ]
  },
  {
   "cell_type": "code",
   "execution_count": 7,
   "metadata": {},
   "outputs": [],
   "source": [
    "# Save references to each table\n",
    "Measurement = Base.classes.measurement\n",
    "Station = Base.classes.station"
   ]
  },
  {
   "cell_type": "code",
   "execution_count": 8,
   "metadata": {},
   "outputs": [],
   "source": [
    "# Create our session (link) from Python to the DB\n",
    "session = Session(engine)"
   ]
  },
  {
   "attachments": {},
   "cell_type": "markdown",
   "metadata": {},
   "source": [
    "# Exploratory Precipitation Analysis"
   ]
  },
  {
   "cell_type": "code",
   "execution_count": 9,
   "metadata": {},
   "outputs": [
    {
     "name": "stdout",
     "output_type": "stream",
     "text": [
      "['measurement', 'station']\n",
      "measurement:\n",
      "id INTEGER\n",
      "station TEXT\n",
      "date TEXT\n",
      "prcp FLOAT\n",
      "tobs FLOAT\n"
     ]
    }
   ],
   "source": [
    "# Inspect table schema\n",
    "inspector = inspect(engine)\n",
    "print(inspector.get_table_names())\n",
    "\n",
    "pcrp_columns = inspector.get_columns('measurement')\n",
    "\n",
    "print(\"measurement:\")\n",
    "for column in pcrp_columns:\n",
    "    print(column['name'], column['type'])\n"
   ]
  },
  {
   "cell_type": "code",
   "execution_count": 10,
   "metadata": {},
   "outputs": [
    {
     "name": "stdout",
     "output_type": "stream",
     "text": [
      "('2017-08-23',)\n"
     ]
    }
   ],
   "source": [
    "# Find the most recent date in the data set.\n",
    "conn = engine.connect()\n",
    "data = engine.execute(\"SELECT MAX(date) FROM measurement;\")\n",
    "for record in data:\n",
    "    print(record)\n",
    "\n",
    "conn.close()"
   ]
  },
  {
   "cell_type": "code",
   "execution_count": 11,
   "metadata": {},
   "outputs": [
    {
     "data": {
      "image/png": "[encoded data removed]",
      "text/plain": [
       "<Figure size 432x288 with 1 Axes>"
      ]
     },
     "metadata": {},
     "output_type": "display_data"
    }
   ],
   "source": [
    "# Design a query to retrieve the last 12 months of precipitation data and plot the results. \n",
    "conn = engine.connect()\n",
    "\n",
    "# Starting from the most recent data point in the database. \n",
    "latest_date = engine.execute(\"SELECT MAX(date) FROM measurement;\").fetchall()[0][0]\n",
    "\n",
    "# Convert str to datetime object\n",
    "datetime_object = dt.datetime.strptime(latest_date, '%Y-%m-%d').date()\n",
    "\n",
    "# Calculate the date one year from the last date in data set.\n",
    "one_year_from_date = datetime_object - dt.timedelta(days=365)\n",
    "\n",
    "# Perform a query to retrieve the data and precipitation scores\n",
    "sql_statement = f\"SELECT date, prcp FROM measurement WHERE Measurement.date BETWEEN '{one_year_from_date}' AND '{latest_date}';\"\n",
    "\n",
    "# Save the query results as a Pandas DataFrame. Explicitly set the column names\n",
    "ytd_data_df = pd.read_sql(sql_statement, conn)\n",
    "\n",
    "# Close connection\n",
    "conn.close()\n",
    "\n",
    "# Sort the dataframe by date\n",
    "sorted_df = ytd_data_df.sort_values(by=\"date\", ascending=True)\n",
    "sorted_df = sorted_df.rename(columns={\n",
    "    'prcp': 'precipitation'\n",
    "})\n",
    "\n",
    "# Use Pandas Plotting with Matplotlib to plot the data\n",
    "x_axis = sorted_df['date']\n",
    "y_axis = sorted_df['precipitation']\n",
    "handle = plt.plot_date(x_axis, y_axis, xdate=True, fmt='-', label=\"precipitation\")\n",
    "plt.xticks(np.arange(0, len(x_axis), step=80),rotation=90)\n",
    "plt.xlim(right=375)\n",
    "plt.ylabel('Inches')\n",
    "plt.xlabel(\"Date\")\n",
    "plt.legend(handles=handle, loc='upper center')\n",
    "plt.show()"
   ]
  },
  {
   "cell_type": "code",
   "execution_count": 12,
   "metadata": {},
   "outputs": [
    {
     "data": {
      "text/html": [
       "<div>\n",
       "<style scoped>\n",
       "    .dataframe tbody tr th:only-of-type {\n",
       "        vertical-align: middle;\n",
       "    }\n",
       "\n",
       "    .dataframe tbody tr th {\n",
       "        vertical-align: top;\n",
       "    }\n",
       "\n",
       "    .dataframe thead th {\n",
       "        text-align: right;\n",
       "    }\n",
       "</style>\n",
       "<table border=\"1\" class=\"dataframe\">\n",
       "  <thead>\n",
       "    <tr style=\"text-align: right;\">\n",
       "      <th></th>\n",
       "      <th>precipitation</th>\n",
       "    </tr>\n",
       "  </thead>\n",
       "  <tbody>\n",
       "    <tr>\n",
       "      <th>count</th>\n",
       "      <td>2021.000000</td>\n",
       "    </tr>\n",
       "    <tr>\n",
       "      <th>mean</th>\n",
       "      <td>0.177279</td>\n",
       "    </tr>\n",
       "    <tr>\n",
       "      <th>std</th>\n",
       "      <td>0.461190</td>\n",
       "    </tr>\n",
       "    <tr>\n",
       "      <th>min</th>\n",
       "      <td>0.000000</td>\n",
       "    </tr>\n",
       "    <tr>\n",
       "      <th>25%</th>\n",
       "      <td>0.000000</td>\n",
       "    </tr>\n",
       "    <tr>\n",
       "      <th>50%</th>\n",
       "      <td>0.020000</td>\n",
       "    </tr>\n",
       "    <tr>\n",
       "      <th>75%</th>\n",
       "      <td>0.130000</td>\n",
       "    </tr>\n",
       "    <tr>\n",
       "      <th>max</th>\n",
       "      <td>6.700000</td>\n",
       "    </tr>\n",
       "  </tbody>\n",
       "</table>\n",
       "</div>"
      ],
      "text/plain": [
       "       precipitation\n",
       "count    2021.000000\n",
       "mean        0.177279\n",
       "std         0.461190\n",
       "min         0.000000\n",
       "25%         0.000000\n",
       "50%         0.020000\n",
       "75%         0.130000\n",
       "max         6.700000"
      ]
     },
     "execution_count": 12,
     "metadata": {},
     "output_type": "execute_result"
    }
   ],
   "source": [
    "# Use Pandas to calculate the summary statistics for the precipitation data\n",
    "sorted_df.describe()"
   ]
  },
  {
   "attachments": {},
   "cell_type": "markdown",
   "metadata": {},
   "source": [
    "# Exploratory Station Analysis"
   ]
  },
  {
   "cell_type": "code",
   "execution_count": 13,
   "metadata": {},
   "outputs": [
    {
     "name": "stdout",
     "output_type": "stream",
     "text": [
      "['measurement', 'station']\n",
      "station:\n",
      "id INTEGER\n",
      "station TEXT\n",
      "name TEXT\n",
      "latitude FLOAT\n",
      "longitude FLOAT\n",
      "elevation FLOAT\n"
     ]
    }
   ],
   "source": [
    "# Inspect table schema\n",
    "inspector = inspect(engine)\n",
    "print(inspector.get_table_names())\n",
    "\n",
    "station_columns = inspector.get_columns('station')\n",
    "\n",
    "print(\"station:\")\n",
    "for column in station_columns:\n",
    "    print(column['name'], column['type'])"
   ]
  },
  {
   "cell_type": "code",
   "execution_count": 20,
   "metadata": {},
   "outputs": [
    {
     "name": "stdout",
     "output_type": "stream",
     "text": [
      "[(9,)]\n"
     ]
    }
   ],
   "source": [
    "# Design a query to calculate the total number of stations in the dataset\n",
    "conn = engine.connect()\n",
    "total_stations = engine.execute(\"SELECT COUNT(DISTINCT measurement.station) FROM measurement;\").fetchall()\n",
    "print(total_stations)\n",
    "\n",
    "conn.close()"
   ]
  },
  {
   "cell_type": "code",
   "execution_count": 15,
   "metadata": {},
   "outputs": [
    {
     "name": "stdout",
     "output_type": "stream",
     "text": [
      "('USC00519281', 2772)\n",
      "('USC00519397', 2724)\n",
      "('USC00513117', 2709)\n",
      "('USC00519523', 2669)\n",
      "('USC00516128', 2612)\n",
      "('USC00514830', 2202)\n",
      "('USC00511918', 1979)\n",
      "('USC00517948', 1372)\n",
      "('USC00518838', 511)\n"
     ]
    }
   ],
   "source": [
    "# Design a query to find the most active stations (i.e. which stations have the most rows?)\n",
    "# List the stations and their counts in descending order.\n",
    "conn = engine.connect()\n",
    "total_activity_per_station = engine.execute(\"\"\"\n",
    "    SELECT DISTINCT station, \n",
    "        COUNT(*) OVER (PARTITION BY station) AS total_count\n",
    "    FROM measurement\n",
    "    ORDER BY total_count DESC;\n",
    "\"\"\")\n",
    "\n",
    "for record in total_activity_per_station:\n",
    "    print(record)\n",
    "\n",
    "conn.close()"
   ]
  },
  {
   "attachments": {},
   "cell_type": "markdown",
   "metadata": {},
   "source": [
    "##### Answer the following question: which station id has the greatest number of observations?\n",
    "Station USC00519281 has the greatest number of observations at 2772."
   ]
  },
  {
   "cell_type": "code",
   "execution_count": 21,
   "metadata": {},
   "outputs": [
    {
     "name": "stdout",
     "output_type": "stream",
     "text": [
      "[(54.0, 85.0, 71.66378066378067)]\n"
     ]
    }
   ],
   "source": [
    "# Using the most active station id from the previous query, calculate the lowest, highest, and average temperature.\n",
    "conn = engine.connect()\n",
    "temps = engine.execute(\"\"\"\n",
    "SELECT\n",
    "\tMIN(tobs) AS min_temp,\n",
    "\tMAX(tobs) AS max_temp,\n",
    "\tAVG(tobs) AS avg_temp\n",
    "FROM\n",
    "\tmeasurement\n",
    "WHERE\n",
    "\tstation = (\n",
    "\tSELECT\n",
    "\t\tstation\n",
    "\tFROM\n",
    "\t\t(\n",
    "\t\tSELECT\n",
    "\t\t\tstation,\n",
    "\t\t\tMAX(total)\n",
    "\t\tFROM\n",
    "\t\t\t(\n",
    "\t\t\tSELECT\n",
    "\t\t\t\tDISTINCT station,\n",
    "\t\t\t\tCOUNT(*) OVER (PARTITION BY station) AS total\n",
    "\t\t\tFROM\n",
    "\t\t\t\tmeasurement)));\n",
    "\"\"\").fetchall()\n",
    "\n",
    "print(temps)\n",
    "\n",
    "conn.close()"
   ]
  },
  {
   "cell_type": "code",
   "execution_count": 27,
   "metadata": {},
   "outputs": [
    {
     "data": {
      "image/png": "[encoded data removed]",
      "text/plain": [
       "<Figure size 432x288 with 1 Axes>"
      ]
     },
     "metadata": {},
     "output_type": "display_data"
    }
   ],
   "source": [
    "# Using the most active station id\n",
    "# Query the last 12 months of temperature observation data for this station and plot the results as a histogram\n",
    "conn = engine.connect()\n",
    "\n",
    "# Find most recent data point in the database for the most active station \n",
    "latest_date = engine.execute(\"\"\"\n",
    "SELECT\n",
    "\tMAX(date)\n",
    "FROM\n",
    "\t(\n",
    "\tSELECT\n",
    "\t\t*\n",
    "\tFROM\n",
    "\t\tmeasurement\n",
    "\tWHERE\n",
    "\t\tstation = (\n",
    "\t\tSELECT\n",
    "\t\t\tstation\n",
    "\t\tFROM\n",
    "\t\t\t(\n",
    "\t\t\tSELECT\n",
    "\t\t\t\tstation,\n",
    "\t\t\t\tMAX(total)\n",
    "\t\t\tFROM\n",
    "\t\t\t\t(\n",
    "\t\t\t\tSELECT\n",
    "\t\t\t\t\tDISTINCT station,\n",
    "\t\t\t\t\tCOUNT(*) OVER (PARTITION BY station) AS total\n",
    "\t\t\t\tFROM\n",
    "\t\t\t\t\tmeasurement))));\n",
    "\"\"\").fetchall()[0][0]\n",
    "\n",
    "# Convert str to datetime object\n",
    "datetime_object = dt.datetime.strptime(latest_date, '%Y-%m-%d').date()\n",
    "# Calculate the date one year from the last date in data set.\n",
    "one_year_from_date = datetime_object - dt.timedelta(days=365)\n",
    "\n",
    "# Design a query to retrieve the last 12 months of precipitation data from the most active station\n",
    "sql_statement = f\"\"\"\n",
    "SELECT\n",
    "\ttobs\n",
    "FROM\n",
    "\tmeasurement\n",
    "WHERE\n",
    "\tstation = (\n",
    "\tSELECT\n",
    "\t\tstation\n",
    "\tFROM\n",
    "\t\t(\n",
    "\t\tSELECT\n",
    "\t\t\tstation,\n",
    "\t\t\tMAX(total)\n",
    "\t\tFROM\n",
    "\t\t\t(\n",
    "\t\t\tSELECT\n",
    "\t\t\t\tDISTINCT station,\n",
    "\t\t\t\tCOUNT(*) OVER (PARTITION BY station) AS total\n",
    "\t\t\tFROM\n",
    "\t\t\t\tmeasurement)))\n",
    "\tAND Measurement.date BETWEEN '{one_year_from_date}' AND '{latest_date}'\n",
    "\"\"\"\n",
    "\n",
    "# Run the query and read directly into pandas dataframe\n",
    "most_active_df = pd.read_sql(sql_statement, conn)\n",
    "\n",
    "# Close connection\n",
    "conn.close()\n",
    "\n",
    "# Use Pandas Plotting with Matplotlib to plot the data\n",
    "plt.hist(most_active_df['tobs'], label='tobs', bins=12)\n",
    "plt.xlabel('Temperature')\n",
    "plt.ylabel('Frequency')\n",
    "plt.legend(loc=\"upper right\")\n",
    "plt.show()"
   ]
  },
  {
   "attachments": {},
   "cell_type": "markdown",
   "metadata": {},
   "source": [
    "# Close Session"
   ]
  },
  {
   "cell_type": "code",
   "execution_count": 18,
   "metadata": {},
   "outputs": [],
   "source": [
    "# Close Session\n",
    "session.close()"
   ]
  }
 ],
 "metadata": {
  "anaconda-cloud": {},
  "kernel_info": {
   "name": "python3"
  },
  "kernelspec": {
   "display_name": "Python 3 (ipykernel)",
   "language": "python",
   "name": "python3"
  },
  "language_info": {
   "codemirror_mode": {
    "name": "ipython",
    "version": 3
   },
   "file_extension": ".py",
   "mimetype": "text/x-python",
   "name": "python",
   "nbconvert_exporter": "python",
   "pygments_lexer": "ipython3",
   "version": "3.7.7"
  },
  "nteract": {
   "version": "0.12.3"
  },
  "varInspector": {
   "cols": {
    "lenName": 16,
    "lenType": 16,
    "lenVar": 40
   },
   "kernels_config": {
    "python": {
     "delete_cmd_postfix": "",
     "delete_cmd_prefix": "del ",
     "library": "var_list.py",
     "varRefreshCmd": "print(var_dic_list())"
    },
    "r": {
     "delete_cmd_postfix": ") ",
     "delete_cmd_prefix": "rm(",
     "library": "var_list.r",
     "varRefreshCmd": "cat(var_dic_list()) "
    }
   },
   "types_to_exclude": [
    "module",
    "function",
    "builtin_function_or_method",
    "instance",
    "_Feature"
   ],
   "window_display": false
  }
 },
 "nbformat": 4,
 "nbformat_minor": 2
}
